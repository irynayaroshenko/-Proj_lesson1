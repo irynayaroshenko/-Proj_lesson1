{
 "cells": [
  {
   "cell_type": "markdown",
   "metadata": {},
   "source": [
    "## Conditionals"
   ]
  },
  {
   "cell_type": "markdown",
   "metadata": {},
   "source": [
    "### If statement"
   ]
  },
  {
   "cell_type": "code",
   "execution_count": null,
   "metadata": {},
   "outputs": [],
   "source": [
    "# Indentation\n",
    "if 3 > 1: # condition\n",
    "    # do something\n",
    "    print('Three is greater than one')\n",
    "print('Finish')"
   ]
  },
  {
   "cell_type": "code",
   "execution_count": null,
   "metadata": {},
   "outputs": [],
   "source": [
    "age = 25\n",
    "\n",
    "if age >= 18:\n",
    "    print('You are old enough to vote')\n",
    "\n",
    "if age < 18:\n",
    "    print('You are not old enough to vote')\n"
   ]
  },
  {
   "cell_type": "code",
   "execution_count": null,
   "metadata": {},
   "outputs": [],
   "source": [
    "#ELSE\n",
    "\n",
    "age = 13\n",
    "\n",
    "if age >= 18:\n",
    "    print('You are old enough to vote')\n",
    "else:\n",
    "    print('You are not old enough to vote')\n",
    "\n",
    "print('Finish')"
   ]
  },
  {
   "cell_type": "code",
   "execution_count": null,
   "metadata": {},
   "outputs": [],
   "source": [
    "#ELSE\n",
    "\n",
    "age = 15\n",
    "\n",
    "if age >= 18:\n",
    "    if age < 21:\n",
    "        print('You are old enough to vote')\n",
    "\n",
    "    print('You are old enough to vote')\n",
    "else:\n",
    "    if age > 14:\n",
    "        print('You are older than 14')\n",
    "        \n",
    "print('Finish')"
   ]
  },
  {
   "cell_type": "code",
   "execution_count": null,
   "metadata": {},
   "outputs": [],
   "source": [
    "# True if condition else False\n",
    "age = 45\n",
    "if age >= 18:\n",
    "    allow_to_vote = True\n",
    "else:\n",
    "    allow_to_vote = False\n",
    "\n",
    "print(allow_to_vote)"
   ]
  },
  {
   "cell_type": "code",
   "execution_count": null,
   "metadata": {},
   "outputs": [],
   "source": [
    "# ELIF\n",
    "\n",
    "car_number = 'АC3456AI'\n",
    "\n",
    "if car_number.startswith('АH'):\n",
    "    print('You are from Donetsk region')\n",
    "\n",
    "if car_number.startswith('BC'):\n",
    "    print('You are from Lviv region')\n",
    "\n",
    "print('FInish')"
   ]
  },
  {
   "cell_type": "code",
   "execution_count": null,
   "metadata": {},
   "outputs": [],
   "source": [
    "# ELIF\n",
    "\n",
    "car_number = 'AH5467BG'\n",
    "print(f'car_number: {car_number}')\n",
    "\n",
    "if car_number.startswith('АH'):\n",
    "    print('You are from Donetsk region')\n",
    "elif car_number.startswith('BC'):\n",
    "    print('You are from Lviv region')\n",
    "elif car_number.startswith('BH'):\n",
    "    print('You are from Odesa region')\n",
    "elif car_number.startswith('АH'):\n",
    "    print('You are from Donetsk region2')\n",
    "else:\n",
    "    print('Looks like you are from somewhere else')\n",
    "print('FInish')"
   ]
  },
  {
   "cell_type": "code",
   "execution_count": null,
   "metadata": {},
   "outputs": [],
   "source": [
    "age = 45\n",
    "\n",
    "# True if condition else False\n",
    "allow_to_vote = 'True' if age >= 18 else 'False'\n",
    "\n",
    "allow_to_vote = (\n",
    "    'True'\n",
    "    if age >= 18\n",
    "    else 'False'\n",
    ")\n",
    "\n",
    "print(allow_to_vote)"
   ]
  },
  {
   "attachments": {},
   "cell_type": "markdown",
   "metadata": {},
   "source": [
    "## Logical operators"
   ]
  },
  {
   "cell_type": "markdown",
   "metadata": {},
   "source": [
    "### AND (i)\n",
    "\n",
    "| First  | Second | Result |\n",
    "| - | - | - |\n",
    "| 0 | 0 | 0 |\n",
    "| 0 | 1 | 0 |\n",
    "| 1 | 0 | 0 |\n",
    "| 1 | 1 | 1 |"
   ]
  },
  {
   "cell_type": "code",
   "execution_count": null,
   "metadata": {},
   "outputs": [],
   "source": [
    "bool('False')"
   ]
  },
  {
   "cell_type": "code",
   "execution_count": null,
   "metadata": {},
   "outputs": [],
   "source": [
    "bool(0)"
   ]
  },
  {
   "cell_type": "code",
   "execution_count": null,
   "metadata": {},
   "outputs": [],
   "source": [
    "bool(-30)"
   ]
  },
  {
   "cell_type": "code",
   "execution_count": null,
   "metadata": {},
   "outputs": [],
   "source": [
    "bool('abc') and bool(70) and bool(59) and bool(0)\n",
    "# 0) True and True and True and False\n",
    "# 1) True and True and False\n",
    "# 2) True and False\n",
    "# 3) False"
   ]
  },
  {
   "cell_type": "code",
   "execution_count": null,
   "metadata": {},
   "outputs": [],
   "source": [
    "name = input('Enter your name')\n",
    "age = 15\n",
    "\n",
    "if name and age:\n",
    "    print(f'Your age: {age} and name: {name}') "
   ]
  },
  {
   "cell_type": "markdown",
   "metadata": {},
   "source": [
    "### OR (або)\n",
    "\n",
    "| First  | Second | Result |\n",
    "| - | - | - |\n",
    "| 0 | 0 | 0 |\n",
    "| 0 | 1 | 1 |\n",
    "| 1 | 0 | 1 |\n",
    "| 1 | 1 | 1 |"
   ]
  },
  {
   "cell_type": "code",
   "execution_count": null,
   "metadata": {},
   "outputs": [],
   "source": [
    "bool(5) or bool(0) or bool(10) or bool('123')\n",
    "\n",
    "# 0) True or False or True or True\n",
    "# 1) True or True or True\n",
    "# 2) True or True\n",
    "# 3) True"
   ]
  },
  {
   "cell_type": "code",
   "execution_count": null,
   "metadata": {},
   "outputs": [],
   "source": [
    "3 ** '6'"
   ]
  },
  {
   "cell_type": "code",
   "execution_count": null,
   "metadata": {},
   "outputs": [],
   "source": [
    "# 12 < 13 or 3 ** '6'\n",
    "12 > 13 and 3 ** '6' # lazy executing"
   ]
  },
  {
   "cell_type": "code",
   "execution_count": null,
   "metadata": {},
   "outputs": [],
   "source": [
    "user_input = None\n",
    "\n",
    "if False:\n",
    "    user_input = input('Enter your name: ')\n",
    "\n",
    "if user_input is not None and len(user_input) > 10:\n",
    "    print(f'Your name is {user_input}')"
   ]
  },
  {
   "cell_type": "code",
   "execution_count": null,
   "metadata": {},
   "outputs": [],
   "source": [
    "user_input = input()\n",
    "\n",
    "if type(user_input) == int and user_input > 123:\n",
    "    user_input ** 3"
   ]
  },
  {
   "cell_type": "markdown",
   "metadata": {},
   "source": [
    "### NOT (заперечення)\n",
    "\n",
    "| Input  | Result |\n",
    "| - | - |\n",
    "| 0 | 1 |\n",
    "| 1 | 0 |\n"
   ]
  },
  {
   "cell_type": "code",
   "execution_count": null,
   "metadata": {},
   "outputs": [],
   "source": [
    "print('not True: ', not True)\n",
    "print('not False: ', not False)\n",
    "print('not True == False: ', not True == False)\n"
   ]
  },
  {
   "cell_type": "code",
   "execution_count": null,
   "metadata": {},
   "outputs": [],
   "source": [
    "print(not True == False)"
   ]
  },
  {
   "cell_type": "code",
   "execution_count": null,
   "metadata": {},
   "outputs": [],
   "source": [
    "print('False == not True', False == not True)"
   ]
  },
  {
   "cell_type": "markdown",
   "metadata": {},
   "source": [
    "#### Operator order of precedence (from highest to lowest):\n",
    "\n",
    "1. <, <=, ==, >=, >\n",
    "2. not\n",
    "3. and\n",
    "4. or"
   ]
  },
  {
   "cell_type": "code",
   "execution_count": null,
   "metadata": {},
   "outputs": [],
   "source": [
    "print('False == (not True): ', False == (not True))"
   ]
  },
  {
   "cell_type": "markdown",
   "metadata": {},
   "source": [
    "### Complex expressions"
   ]
  },
  {
   "cell_type": "code",
   "execution_count": null,
   "metadata": {},
   "outputs": [],
   "source": [
    "True and not (3 != 3.0)"
   ]
  },
  {
   "cell_type": "code",
   "execution_count": null,
   "metadata": {},
   "outputs": [],
   "source": [
    "(\"C\" != \"C\") or not (23 >= 34)"
   ]
  },
  {
   "cell_type": "markdown",
   "metadata": {},
   "source": [
    "## Loops"
   ]
  },
  {
   "cell_type": "markdown",
   "metadata": {},
   "source": [
    "### While loops"
   ]
  },
  {
   "cell_type": "code",
   "execution_count": null,
   "metadata": {},
   "outputs": [],
   "source": [
    "while 5>4:  # condition\n",
    "    # body\n",
    "    print('I am always here')\n"
   ]
  },
  {
   "cell_type": "code",
   "execution_count": null,
   "metadata": {},
   "outputs": [],
   "source": [
    "iteration = 1\n",
    "while iteration < 6:  # statement\n",
    "    # body\n",
    "    print(str(iteration))\n",
    "    iteration = iteration + 1\n",
    "print('Finally')"
   ]
  },
  {
   "cell_type": "code",
   "execution_count": null,
   "metadata": {},
   "outputs": [],
   "source": [
    "num = float(input(\"Enter a positive number: \"))\n",
    "while num <= 0:\n",
    "    num = float(input(\"Enter a positive number: \"))\n",
    "    if num == -1:\n",
    "        break\n",
    "    print(\"That's not a positive number!\")\n",
    "\n",
    "print(\"Good job!\")"
   ]
  },
  {
   "cell_type": "code",
   "execution_count": null,
   "metadata": {},
   "outputs": [],
   "source": [
    "word = \"Projector\"\n",
    "index = 0\n",
    "while index < len(word):\n",
    "    print('Current letter:', word[index])\n",
    "    index = index + 1"
   ]
  },
  {
   "attachments": {},
   "cell_type": "markdown",
   "metadata": {},
   "source": [
    "## Practice section\n",
    "\n",
    "1. Figure out the result of the following expressions:\n",
    "\n",
    "    a) (1 <= 1) and (1 != 1)\n",
    "\n",
    "    b) not (1 != 2)\n",
    "\n",
    "    c) (\"good\" != \"bad\") or False\n",
    "\n",
    "    d) (\"good\" != \"Good\") and not (1 == 1)\n",
    "2. Make all of them True by adding parentheses:\n",
    "\n",
    "    a) False == not True\n",
    "\n",
    "    b) True and False == True and False\n",
    "\n",
    "    c) not True and \"A\" == \"B\"\n"
   ]
  },
  {
   "attachments": {},
   "cell_type": "markdown",
   "metadata": {},
   "source": [
    "3. Get a positive number from user input. Find all factors of this number.\n",
    "    \n",
    "    Example:\n",
    "    - If the number is 6, the factors are: 1, 2, 3, 6\n",
    "    - If the number is 10, the factors are: 1, 2, 5, 10\n",
    "\n",
    "4. Write a Python program to check a triangle is equilateral, isosceles or scalene. Get all three sides from user input.\n",
    "\n",
    "    Note :\n",
    "    1. An equilateral triangle is a triangle in which all three sides are equal.\n",
    "    2. A scalene triangle is a triangle that has three unequal sides.\n",
    "    3. An isosceles triangle is a triangle with (at least) two equal sides.\n",
    "\n",
    "5. (Optional): Write a Python program to get next day of a given date. Get day, month and year from the user input.\n",
    "Expected Output:\n",
    "\n",
    "    **Input a year:** 2022                                                     \n",
    "    **Input a month [1-12]:** 8                                               \n",
    "    **Input a day [1-31]:** 23                                           \n",
    "    The next date is [yyyy-mm-dd] 2022-8-24\n",
    "\n"
   ]
  },
  {
   "attachments": {},
   "cell_type": "markdown",
   "metadata": {},
   "source": [
    "6. Write a program that takes number as its input and doubles that number few times in a loop. Number of iterations and initial number should be taken from user input. You should display each result on a separate line. Here is some sample output:\n",
    "    ```\n",
    "    Input:\n",
    "    initial number: 2\n",
    "    number of iterations: 5\n",
    "\n",
    "    Output:\n",
    "    4\n",
    "    8\n",
    "    16\n",
    "    32\n",
    "    64\n",
    "    ```\n",
    "7. Write a program that asks the user to enter a number, and then keeps asking for numbers until the user enters the number 0. Once the user enters 0, the program should print the sum of all the numbers entered by the user.\n"
   ]
  },
  {
   "cell_type": "markdown",
   "metadata": {},
   "source": [
    "### Materials\n",
    "\n",
    "#### Conditionals\n",
    "1. https://realpython.com/python-conditional-statements/\n",
    "2. https://python-course.eu/python-tutorial/conditional-statements.php\n",
    "3. https://www.w3schools.com/python/python_conditions.asp\n",
    "\n",
    "#### While loop\n",
    "1. https://realpython.com/python-while-loop/"
   ]
  }
 ],
 "metadata": {
  "kernelspec": {
   "display_name": "Python 3.9.13 64-bit",
   "language": "python",
   "name": "python3"
  },
  "language_info": {
   "codemirror_mode": {
    "name": "ipython",
    "version": 3
   },
   "file_extension": ".py",
   "mimetype": "text/x-python",
   "name": "python",
   "nbconvert_exporter": "python",
   "pygments_lexer": "ipython3",
   "version": "3.9.13 (main, May 24 2022, 21:28:31) \n[Clang 13.1.6 (clang-1316.0.21.2)]"
  },
  "orig_nbformat": 4,
  "vscode": {
   "interpreter": {
    "hash": "397704579725e15f5c7cb49fe5f0341eb7531c82d19f2c29d197e8b64ab5776b"
   }
  }
 },
 "nbformat": 4,
 "nbformat_minor": 2
}
